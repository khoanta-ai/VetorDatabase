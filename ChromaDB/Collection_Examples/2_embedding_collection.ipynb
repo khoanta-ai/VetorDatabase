{
 "cells": [
  {
   "cell_type": "markdown",
   "metadata": {},
   "source": [
    "## Referencesm"
   ]
  },
  {
   "cell_type": "markdown",
   "metadata": {
    "vscode": {
     "languageId": "plaintext"
    }
   },
   "source": [
    "https://docs.trychroma.com/guides/multimodal\n",
    "\n",
    "https://docs.trychroma.com/guides#using-collections\n",
    "\n",
    "https://cookbook.chromadb.dev/embeddings/gpu-support/#openclipm"
   ]
  },
  {
   "cell_type": "markdown",
   "metadata": {
    "vscode": {
     "languageId": "plaintext"
    }
   },
   "source": [
    "## Prepare Image Data"
   ]
  },
  {
   "cell_type": "markdown",
   "metadata": {
    "vscode": {
     "languageId": "plaintext"
    }
   },
   "source": [
    "### Download Image Data"
   ]
  },
  {
   "cell_type": "code",
   "execution_count": null,
   "metadata": {},
   "outputs": [],
   "source": [
    "# %pip install gdown"
   ]
  },
  {
   "cell_type": "code",
   "execution_count": null,
   "metadata": {},
   "outputs": [],
   "source": [
    "import gdown\n",
    "\n",
    "# !gdown 1msLVo0g0LFmL9-qZ73vq9YEVZwbzOePF\n",
    "url = \"https://drive.google.com/uc?id=1msLVo0g0LFmL9-qZ73vq9YEVZwbzOePF\"\n",
    "output = \"image_data.zip\"\n",
    "\n",
    "gdown.download(url, output, quiet=False)"
   ]
  },
  {
   "cell_type": "code",
   "execution_count": null,
   "metadata": {},
   "outputs": [],
   "source": [
    "!unzip -q image_data.zip"
   ]
  },
  {
   "cell_type": "code",
   "execution_count": null,
   "metadata": {},
   "outputs": [],
   "source": [
    "rm image_data.zip"
   ]
  },
  {
   "cell_type": "markdown",
   "metadata": {},
   "source": [
    "### Load Embedding"
   ]
  },
  {
   "cell_type": "code",
   "execution_count": 1,
   "metadata": {},
   "outputs": [],
   "source": [
    "import os \n",
    "root = 'data/train'\n",
    "\n",
    "def get_image_uris(root):\n",
    "    image_uris = []\n",
    "    for class_name in os.listdir(root):\n",
    "        class_path = os.path.join(root, class_name)\n",
    "        images_name = os.listdir(class_path)\n",
    "        image_uris += [ os.path.join(class_path, fn) for fn in images_name ]\n",
    "    return image_uris\n"
   ]
  },
  {
   "cell_type": "code",
   "execution_count": 2,
   "metadata": {},
   "outputs": [],
   "source": [
    "# %pip install matplotlib"
   ]
  },
  {
   "cell_type": "code",
   "execution_count": 3,
   "metadata": {},
   "outputs": [],
   "source": [
    "# import matplotlib.pyplot as plt\n",
    "\n",
    "# image = np.array(Image.open(img_path[0]))\n",
    "# print(image.shape)\n",
    "# plt.imshow(image)\n",
    "# plt.axis('off')\n",
    "# plt.show()"
   ]
  },
  {
   "cell_type": "code",
   "execution_count": 4,
   "metadata": {},
   "outputs": [],
   "source": [
    "# dir(clip_embedding_function)\n",
    "# _PILImage,  _encode_image, _encode_text, _model,_preprocess ,_tokenizer , _torch"
   ]
  },
  {
   "cell_type": "code",
   "execution_count": 5,
   "metadata": {},
   "outputs": [
    {
     "name": "stderr",
     "output_type": "stream",
     "text": [
      "/home/aivn48/anaconda3/envs/chromadb/lib/python3.11/site-packages/tqdm/auto.py:21: TqdmWarning: IProgress not found. Please update jupyter and ipywidgets. See https://ipywidgets.readthedocs.io/en/stable/user_install.html\n",
      "  from .autonotebook import tqdm as notebook_tqdm\n",
      "/home/aivn48/anaconda3/envs/chromadb/lib/python3.11/site-packages/open_clip/factory.py:129: FutureWarning: You are using `torch.load` with `weights_only=False` (the current default value), which uses the default pickle module implicitly. It is possible to construct malicious pickle data which will execute arbitrary code during unpickling (See https://github.com/pytorch/pytorch/blob/main/SECURITY.md#untrusted-models for more details). In a future release, the default value for `weights_only` will be flipped to `True`. This limits the functions that could be executed during unpickling. Arbitrary objects will no longer be allowed to be loaded via this mode unless they are explicitly allowlisted by the user via `torch.serialization.add_safe_globals`. We recommend you start setting `weights_only=True` for any use case where you don't have full control of the loaded file. Please open an issue on GitHub for any issues related to this experimental feature.\n",
      "  checkpoint = torch.load(checkpoint_path, map_location=map_location)\n"
     ]
    }
   ],
   "source": [
    "# import torch\n",
    "# from PIL import Image\n",
    "# import numpy as np\n",
    "from typing import  cast\n",
    "from chromadb.api.types import Embeddings\n",
    "from chromadb.utils.embedding_functions import OpenCLIPEmbeddingFunction\n",
    "clip_embedding_function = OpenCLIPEmbeddingFunction(device='cuda')\n",
    "\n",
    "def prepocessing_image(img_path_list, size):\n",
    "    img_batch = []\n",
    "    for img_path in img_path_list:\n",
    "        # OpenClip receive PIL image and pre-process single image as pre-processing in Pytorch\n",
    "        # img = Image.open(img_path).resize(size=size)\n",
    "        img = clip_embedding_function._PILImage.open(img_path).resize(size=size)\n",
    "        img = clip_embedding_function._preprocess(img)\n",
    "        img_batch.append(img)\n",
    "    return img_batch\n",
    "\n",
    "\n",
    "def get_batch_embedding(img_batch):\n",
    "    # img_batch = torch.stack(img_batch, axis=0)\n",
    "    img_batch = clip_embedding_function._torch.stack(img_batch, axis=0)\n",
    "    img_batch = img_batch.to('cuda')\n",
    "    with clip_embedding_function._torch.no_grad():\n",
    "        image_features = clip_embedding_function._model.encode_image(img_batch)\n",
    "        image_features /= image_features.norm(dim=-1, keepdim=True)\n",
    "    return cast(Embeddings, image_features.to('cpu').tolist())\n",
    "\n",
    "\n",
    "def get_embedding_loader(img_path_list, batch_size, size):\n",
    "    for i in range(0, len(img_path_list), batch_size):\n",
    "        start = i\n",
    "        end = min(i+batch_size, len(img_path_list))\n",
    "        # preprocessing images\n",
    "        img_batch = prepocessing_image(img_path_list[start:end], size=size)\n",
    "        \n",
    "        # get embeddings\n",
    "        image_features = get_batch_embedding(img_batch)\n",
    "        \n",
    "        # generate ids and metadata\n",
    "        image_ids = [f\"img_{idx_}\" for idx_ in range(start, end, 1)]\n",
    "        image_metadata = [{'ver': idx_%10} for idx_ in range(start, end, 1)]\n",
    "        \n",
    "        yield image_features, image_ids, image_metadata\n",
    "\n",
    "# def get_batch_embedding(img_path_list, batch_size, size):\n",
    "#     for i in range(0, len(img_path_list), batch_size):\n",
    "#         start = i\n",
    "#         end = min(i+batch_size, len(img_path_list))\n",
    "#         img_batch = [ Image.open(img_path).resize(size=size) for img_path in img_path_list[start:end] ]\n",
    "#         img_batch = [ torch.tensor(np.array(img)) for img in img_batch ]\n",
    "#         img_batch = torch.stack(img_batch)\n",
    "#         img_batch = img_batch.permute(0, 3, 1, 2).to('cuda')\n",
    "#         img_batch = clip_embedding_function(img_batch)\n",
    "#         yield img_batch\n"
   ]
  },
  {
   "cell_type": "code",
   "execution_count": 81,
   "metadata": {},
   "outputs": [
    {
     "name": "stdout",
     "output_type": "stream",
     "text": [
      "32 32 32\n"
     ]
    }
   ],
   "source": [
    "# image_uris = get_image_uris(root)\n",
    "# embedding_loader = get_embedding_loader(image_uris, batch_size=32, size=(224,224))\n",
    "# a_embedd, a_ids, a_meta = next(embedding_loader)\n",
    "# print(len(a_embedd), len(a_ids), len(a_meta))"
   ]
  },
  {
   "cell_type": "markdown",
   "metadata": {},
   "source": [
    "## In-memory Vector Database"
   ]
  },
  {
   "cell_type": "markdown",
   "metadata": {},
   "source": [
    "### Create Client"
   ]
  },
  {
   "cell_type": "code",
   "execution_count": 6,
   "metadata": {},
   "outputs": [],
   "source": [
    "import chromadb\n",
    "client = chromadb.Client()"
   ]
  },
  {
   "cell_type": "markdown",
   "metadata": {},
   "source": [
    "### Create Collection"
   ]
  },
  {
   "cell_type": "code",
   "execution_count": 7,
   "metadata": {},
   "outputs": [],
   "source": [
    "collection = client.create_collection(name='image_clip_embedding_collection') "
   ]
  },
  {
   "cell_type": "markdown",
   "metadata": {},
   "source": [
    "### Add embeddings to the collection"
   ]
  },
  {
   "cell_type": "code",
   "execution_count": 10,
   "metadata": {},
   "outputs": [],
   "source": [
    "def add_embeddings(image_uris, size, batch_size, collection):\n",
    "    embedding_loader = get_embedding_loader(image_uris, batch_size=batch_size, size=size)\n",
    "    for embeddings, ids, metadata in embedding_loader:\n",
    "        collection.add(embeddings=embeddings, ids=ids, metadatas=metadata)\n"
   ]
  },
  {
   "cell_type": "code",
   "execution_count": 11,
   "metadata": {},
   "outputs": [],
   "source": [
    "image_uris = get_image_uris(root)\n",
    "add_embeddings(image_uris=image_uris, size=(224,224), batch_size=32, collection=collection)"
   ]
  },
  {
   "cell_type": "markdown",
   "metadata": {},
   "source": [
    "### Query"
   ]
  },
  {
   "cell_type": "code",
   "execution_count": 14,
   "metadata": {},
   "outputs": [],
   "source": [
    "def query_embeddings(test_image_uris, size, collection):\n",
    "    # preprocessing images\n",
    "    test_img_batch = prepocessing_image(test_image_uris, size=size)\n",
    "    # get embeddings\n",
    "    test_image_features = get_batch_embedding(test_img_batch)\n",
    "    # query\n",
    "    results = collection.query(query_embeddings=test_image_features, n_results=5)\n",
    "    return results "
   ]
  },
  {
   "cell_type": "code",
   "execution_count": 15,
   "metadata": {},
   "outputs": [
    {
     "name": "stdout",
     "output_type": "stream",
     "text": [
      "['data/test/ambulance/n02701002_2311.JPEG']\n"
     ]
    },
    {
     "data": {
      "text/plain": [
       "{'ids': [['img_4', 'img_7', 'img_6', 'img_5', 'img_1']],\n",
       " 'distances': [[0.5078729391098022,\n",
       "   0.5386553406715393,\n",
       "   0.5713851451873779,\n",
       "   0.5825256705284119,\n",
       "   0.7087713479995728]],\n",
       " 'metadatas': [[{'ver': 4}, {'ver': 7}, {'ver': 6}, {'ver': 5}, {'ver': 1}]],\n",
       " 'embeddings': None,\n",
       " 'documents': [[None, None, None, None, None]],\n",
       " 'uris': None,\n",
       " 'data': None,\n",
       " 'included': ['metadatas', 'documents', 'distances']}"
      ]
     },
     "execution_count": 15,
     "metadata": {},
     "output_type": "execute_result"
    }
   ],
   "source": [
    "test_image_uris = get_image_uris('data/test')\n",
    "print(test_image_uris[0:1])\n",
    "query_embeddings(test_image_uris[0:1], size=(224,224), collection=collection)"
   ]
  },
  {
   "cell_type": "code",
   "execution_count": 16,
   "metadata": {},
   "outputs": [
    {
     "data": {
      "text/plain": [
       "['data/train/ambulance/n02701002_15786.JPEG',\n",
       " 'data/train/ambulance/n02701002_18950.JPEG',\n",
       " 'data/train/ambulance/n02701002_1264.JPEG']"
      ]
     },
     "execution_count": 16,
     "metadata": {},
     "output_type": "execute_result"
    }
   ],
   "source": [
    "image_uris[4:7]"
   ]
  },
  {
   "cell_type": "code",
   "execution_count": 17,
   "metadata": {},
   "outputs": [
    {
     "name": "stdout",
     "output_type": "stream",
     "text": [
      "['data/test/ambulance/n02701002_2311.JPEG', 'data/test/horizontal_bar/n03535780_9902.JPEG', 'data/test/dugong/n02074367_5140.JPEG', 'data/test/killer_whale/n02071294_20475.JPEG', 'data/test/flatworm/n01924916_6615.JPEG']\n"
     ]
    },
    {
     "data": {
      "text/plain": [
       "{'ids': [['img_4', 'img_7', 'img_6', 'img_5', 'img_1'],\n",
       "  ['img_16', 'img_12', 'img_13', 'img_14', 'img_10'],\n",
       "  ['img_25', 'img_27', 'img_24', 'img_26', 'img_28'],\n",
       "  ['img_35', 'img_30', 'img_31', 'img_38', 'img_34'],\n",
       "  ['img_49', 'img_42', 'img_43', 'img_45', 'img_127']],\n",
       " 'distances': [[0.5078730583190918,\n",
       "   0.538655161857605,\n",
       "   0.5713850259780884,\n",
       "   0.5825255513191223,\n",
       "   0.7087711095809937],\n",
       "  [0.5071476697921753,\n",
       "   0.6265128254890442,\n",
       "   0.667927086353302,\n",
       "   0.6868309378623962,\n",
       "   0.7616097331047058],\n",
       "  [0.4300346374511719,\n",
       "   0.549135684967041,\n",
       "   0.5771130323410034,\n",
       "   0.6138494610786438,\n",
       "   0.6673237085342407],\n",
       "  [0.3649950623512268,\n",
       "   0.4591969847679138,\n",
       "   0.5159907341003418,\n",
       "   0.5380780100822449,\n",
       "   0.7076171636581421],\n",
       "  [0.27509841322898865,\n",
       "   0.401824414730072,\n",
       "   0.4599449038505554,\n",
       "   0.47627371549606323,\n",
       "   0.5155505537986755]],\n",
       " 'metadatas': [[{'ver': 4}, {'ver': 7}, {'ver': 6}, {'ver': 5}, {'ver': 1}],\n",
       "  [{'ver': 6}, {'ver': 2}, {'ver': 3}, {'ver': 4}, {'ver': 0}],\n",
       "  [{'ver': 5}, {'ver': 7}, {'ver': 4}, {'ver': 6}, {'ver': 8}],\n",
       "  [{'ver': 5}, {'ver': 0}, {'ver': 1}, {'ver': 8}, {'ver': 4}],\n",
       "  [{'ver': 9}, {'ver': 2}, {'ver': 3}, {'ver': 5}, {'ver': 7}]],\n",
       " 'embeddings': None,\n",
       " 'documents': [[None, None, None, None, None],\n",
       "  [None, None, None, None, None],\n",
       "  [None, None, None, None, None],\n",
       "  [None, None, None, None, None],\n",
       "  [None, None, None, None, None]],\n",
       " 'uris': None,\n",
       " 'data': None,\n",
       " 'included': ['metadatas', 'documents', 'distances']}"
      ]
     },
     "execution_count": 17,
     "metadata": {},
     "output_type": "execute_result"
    }
   ],
   "source": [
    "test_image_uris = get_image_uris('data/test')\n",
    "print(test_image_uris[0:5])\n",
    "query_embeddings(test_image_uris[0:5], size=(224,224), collection=collection)"
   ]
  },
  {
   "cell_type": "code",
   "execution_count": null,
   "metadata": {},
   "outputs": [],
   "source": []
  }
 ],
 "metadata": {
  "kernelspec": {
   "display_name": "chromadb",
   "language": "python",
   "name": "python3"
  },
  "language_info": {
   "codemirror_mode": {
    "name": "ipython",
    "version": 3
   },
   "file_extension": ".py",
   "mimetype": "text/x-python",
   "name": "python",
   "nbconvert_exporter": "python",
   "pygments_lexer": "ipython3",
   "version": "3.11.9"
  }
 },
 "nbformat": 4,
 "nbformat_minor": 2
}

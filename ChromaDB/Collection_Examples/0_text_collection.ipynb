{
 "cells": [
  {
   "cell_type": "markdown",
   "metadata": {
    "vscode": {
     "languageId": "plaintext"
    }
   },
   "source": [
    "## References"
   ]
  },
  {
   "cell_type": "markdown",
   "metadata": {},
   "source": [
    "https://docs.trychroma.com/guides#using-collections\n",
    "\n",
    "https://docs.trychroma.com/reference/py-collection\n",
    "\n",
    "https://cookbook.chromadb.dev/core/collections/\n",
    "\n",
    "https://docs.trychroma.com/guides/embeddings"
   ]
  },
  {
   "cell_type": "markdown",
   "metadata": {},
   "source": [
    "## Prepare Text Data"
   ]
  },
  {
   "cell_type": "markdown",
   "metadata": {},
   "source": [
    "### Download Text Data"
   ]
  },
  {
   "cell_type": "code",
   "execution_count": 6,
   "metadata": {},
   "outputs": [
    {
     "name": "stdout",
     "output_type": "stream",
     "text": [
      "--2024-08-03 19:39:47--  https://raw.githubusercontent.com/johnnycode8/chromadb_quickstart/main/menu_items.csv\n",
      "Resolving raw.githubusercontent.com (raw.githubusercontent.com)... 185.199.108.133, 185.199.109.133, 185.199.111.133, ...\n",
      "Connecting to raw.githubusercontent.com (raw.githubusercontent.com)|185.199.108.133|:443... connected.\n",
      "HTTP request sent, awaiting response... 200 OK\n",
      "Length: 7171 (7,0K) [text/plain]\n",
      "Saving to: ‘menu_items.csv’\n",
      "\n",
      "menu_items.csv      100%[===================>]   7,00K  --.-KB/s    in 0,001s  \n",
      "\n",
      "2024-08-03 19:39:47 (9,90 MB/s) - ‘menu_items.csv’ saved [7171/7171]\n",
      "\n"
     ]
    }
   ],
   "source": [
    "!wget https://raw.githubusercontent.com/johnnycode8/chromadb_quickstart/main/menu_items.csv"
   ]
  },
  {
   "cell_type": "code",
   "execution_count": 7,
   "metadata": {},
   "outputs": [
    {
     "name": "stdout",
     "output_type": "stream",
     "text": [
      "Collecting pandas\n",
      "  Downloading pandas-2.2.2-cp311-cp311-manylinux_2_17_x86_64.manylinux2014_x86_64.whl.metadata (19 kB)\n",
      "Requirement already satisfied: numpy>=1.23.2 in /home/aivn48/anaconda3/envs/chromadb/lib/python3.11/site-packages (from pandas) (1.26.4)\n",
      "Requirement already satisfied: python-dateutil>=2.8.2 in /home/aivn48/anaconda3/envs/chromadb/lib/python3.11/site-packages (from pandas) (2.9.0)\n",
      "Collecting pytz>=2020.1 (from pandas)\n",
      "  Downloading pytz-2024.1-py2.py3-none-any.whl.metadata (22 kB)\n",
      "Collecting tzdata>=2022.7 (from pandas)\n",
      "  Downloading tzdata-2024.1-py2.py3-none-any.whl.metadata (1.4 kB)\n",
      "Requirement already satisfied: six>=1.5 in /home/aivn48/anaconda3/envs/chromadb/lib/python3.11/site-packages (from python-dateutil>=2.8.2->pandas) (1.16.0)\n",
      "Downloading pandas-2.2.2-cp311-cp311-manylinux_2_17_x86_64.manylinux2014_x86_64.whl (13.0 MB)\n",
      "\u001b[2K   \u001b[90m━━━━━━━━━━━━━━━━━━━━━━━━━━━━━━━━━━━━━━━━\u001b[0m \u001b[32m13.0/13.0 MB\u001b[0m \u001b[31m5.9 MB/s\u001b[0m eta \u001b[36m0:00:00\u001b[0m00:01\u001b[0m00:01\u001b[0m\n",
      "\u001b[?25hDownloading pytz-2024.1-py2.py3-none-any.whl (505 kB)\n",
      "Downloading tzdata-2024.1-py2.py3-none-any.whl (345 kB)\n",
      "Installing collected packages: pytz, tzdata, pandas\n",
      "Successfully installed pandas-2.2.2 pytz-2024.1 tzdata-2024.1\n"
     ]
    }
   ],
   "source": [
    "# !pip install pandas"
   ]
  },
  {
   "cell_type": "markdown",
   "metadata": {},
   "source": [
    "### Load text data"
   ]
  },
  {
   "cell_type": "code",
   "execution_count": 1,
   "metadata": {},
   "outputs": [],
   "source": [
    "import pandas as pd\n",
    "text_data = pd.read_csv('menu_items.csv')"
   ]
  },
  {
   "cell_type": "code",
   "execution_count": 2,
   "metadata": {},
   "outputs": [
    {
     "data": {
      "text/html": [
       "<div>\n",
       "<style scoped>\n",
       "    .dataframe tbody tr th:only-of-type {\n",
       "        vertical-align: middle;\n",
       "    }\n",
       "\n",
       "    .dataframe tbody tr th {\n",
       "        vertical-align: top;\n",
       "    }\n",
       "\n",
       "    .dataframe thead th {\n",
       "        text-align: right;\n",
       "    }\n",
       "</style>\n",
       "<table border=\"1\" class=\"dataframe\">\n",
       "  <thead>\n",
       "    <tr style=\"text-align: right;\">\n",
       "      <th></th>\n",
       "      <th>item_id</th>\n",
       "      <th>item_name</th>\n",
       "    </tr>\n",
       "  </thead>\n",
       "  <tbody>\n",
       "    <tr>\n",
       "      <th>0</th>\n",
       "      <td>A1</td>\n",
       "      <td>Vegan Chicken Salad</td>\n",
       "    </tr>\n",
       "    <tr>\n",
       "      <th>1</th>\n",
       "      <td>A2</td>\n",
       "      <td>Spring Rolls (4 pieces)</td>\n",
       "    </tr>\n",
       "    <tr>\n",
       "      <th>2</th>\n",
       "      <td>A3</td>\n",
       "      <td>Pot Stickers (6 pieces)</td>\n",
       "    </tr>\n",
       "    <tr>\n",
       "      <th>3</th>\n",
       "      <td>A4</td>\n",
       "      <td>Fried Wonton (10 pieces)</td>\n",
       "    </tr>\n",
       "    <tr>\n",
       "      <th>4</th>\n",
       "      <td>A5</td>\n",
       "      <td>Fried Tofu with Soy Sauce</td>\n",
       "    </tr>\n",
       "  </tbody>\n",
       "</table>\n",
       "</div>"
      ],
      "text/plain": [
       "  item_id                  item_name\n",
       "0      A1        Vegan Chicken Salad\n",
       "1      A2    Spring Rolls (4 pieces)\n",
       "2      A3    Pot Stickers (6 pieces)\n",
       "3      A4   Fried Wonton (10 pieces)\n",
       "4      A5  Fried Tofu with Soy Sauce"
      ]
     },
     "execution_count": 2,
     "metadata": {},
     "output_type": "execute_result"
    }
   ],
   "source": [
    "text_data.head()"
   ]
  },
  {
   "cell_type": "markdown",
   "metadata": {},
   "source": [
    "### Format text data for chromadb"
   ]
  },
  {
   "cell_type": "code",
   "execution_count": 3,
   "metadata": {},
   "outputs": [],
   "source": [
    "ids_data = text_data['item_id'].to_list()\n",
    "documents_data = text_data['item_name'].to_list()"
   ]
  },
  {
   "cell_type": "code",
   "execution_count": 4,
   "metadata": {},
   "outputs": [
    {
     "data": {
      "text/plain": [
       "['A1', 'A2', 'A3', 'A4', 'A5']"
      ]
     },
     "execution_count": 4,
     "metadata": {},
     "output_type": "execute_result"
    }
   ],
   "source": [
    "ids_data[0:5]"
   ]
  },
  {
   "cell_type": "markdown",
   "metadata": {},
   "source": [
    "### Prepare metadata"
   ]
  },
  {
   "cell_type": "code",
   "execution_count": 5,
   "metadata": {},
   "outputs": [
    {
     "data": {
      "text/plain": [
       "201"
      ]
     },
     "execution_count": 5,
     "metadata": {},
     "output_type": "execute_result"
    }
   ],
   "source": [
    "len(ids_data)"
   ]
  },
  {
   "cell_type": "code",
   "execution_count": 6,
   "metadata": {},
   "outputs": [],
   "source": [
    "versions = [\n",
    "    {'ver': idx_ % 4} for idx_ in range(len(ids_data)) \n",
    "]"
   ]
  },
  {
   "cell_type": "code",
   "execution_count": 7,
   "metadata": {},
   "outputs": [
    {
     "data": {
      "text/plain": [
       "[{'ver': 0}, {'ver': 1}, {'ver': 2}, {'ver': 3}, {'ver': 0}]"
      ]
     },
     "execution_count": 7,
     "metadata": {},
     "output_type": "execute_result"
    }
   ],
   "source": [
    "versions[0:5]"
   ]
  },
  {
   "cell_type": "markdown",
   "metadata": {},
   "source": [
    "## In-memory Vector Database"
   ]
  },
  {
   "cell_type": "markdown",
   "metadata": {
    "vscode": {
     "languageId": "plaintext"
    }
   },
   "source": [
    "### Create Client "
   ]
  },
  {
   "cell_type": "code",
   "execution_count": 8,
   "metadata": {},
   "outputs": [],
   "source": [
    "import chromadb\n",
    "client = chromadb.Client() "
   ]
  },
  {
   "cell_type": "markdown",
   "metadata": {},
   "source": [
    "### Create Collection"
   ]
  },
  {
   "cell_type": "markdown",
   "metadata": {},
   "source": [
    "#### Embeding Function for Collection"
   ]
  },
  {
   "cell_type": "markdown",
   "metadata": {},
   "source": [
    "Embedding functions can be linked to a collection and used whenever you call `add`, `update`, `upsert` or `query`. You can also use them directly which can be handy for debugging.\n",
    "\n",
    "By default, Chroma uses the Sentence Transformers `all-MiniLM-L6-v2 model` to create embeddings\n"
   ]
  },
  {
   "cell_type": "code",
   "execution_count": 9,
   "metadata": {},
   "outputs": [],
   "source": [
    "from chromadb.utils import embedding_functions\n",
    "default_ef = embedding_functions.DefaultEmbeddingFunction()\n"
   ]
  },
  {
   "cell_type": "markdown",
   "metadata": {},
   "source": [
    "https://github.com/chroma-core/chroma/blob/main/chromadb/api/client.py#L106\n",
    "\n",
    "```python\n",
    "def create_collection(\n",
    "        self,\n",
    "        name: str,\n",
    "        configuration: Optional[CollectionConfiguration] = None,\n",
    "        metadata: Optional[CollectionMetadata] = None,\n",
    "        embedding_function: Optional[\n",
    "            EmbeddingFunction[Embeddable]\n",
    "        ] = ef.DefaultEmbeddingFunction(),  # type: ignore\n",
    "        data_loader: Optional[DataLoader[Loadable]] = None,\n",
    "        get_or_create: bool = False,\n",
    "    ) -> Collection:\n",
    "        model = self._server.create_collection(\n",
    "            name=name,\n",
    "            metadata=metadata,\n",
    "            tenant=self.tenant,\n",
    "            database=self.database,\n",
    "            get_or_create=get_or_create,\n",
    "            configuration=configuration,\n",
    "        )\n",
    "        return Collection(\n",
    "            client=self._server,\n",
    "            model=model,\n",
    "            embedding_function=embedding_function,\n",
    "            data_loader=data_loader,\n",
    "        )\n",
    "```"
   ]
  },
  {
   "cell_type": "markdown",
   "metadata": {},
   "source": [
    "Create a new collection with the given name and metadata.\n",
    "\n",
    "**Arguments:**\n",
    "\n",
    "`name` - The name of the collection to create.\n",
    "\n",
    "`metadata` - Optional metadata to associate with the collection.\n",
    "\n",
    "`embedding_function` - Optional function to use to embed documents. Uses the default embedding function if not provided.\n",
    "\n",
    "`get_or_create` - If True, return the existing collection if it exists.\n",
    "\n",
    "**Returns:**\n",
    "\n",
    "`Collection` - The newly created collection.\n",
    "\n",
    "**Raises:**\n",
    "\n",
    "`ValueError` - If the collection already exists and get_or_create is False.\n",
    "\n",
    "`ValueError` - If the collection name is invalid."
   ]
  },
  {
   "cell_type": "code",
   "execution_count": 10,
   "metadata": {},
   "outputs": [],
   "source": [
    "text_collection = client.create_collection(name='text_collection', \n",
    "                                           embedding_function=default_ef,\n",
    "                                           metadata={\"hnsw:space\": \"cosine\"}) # l2 is the default"
   ]
  },
  {
   "cell_type": "code",
   "execution_count": 11,
   "metadata": {},
   "outputs": [
    {
     "name": "stdout",
     "output_type": "stream",
     "text": [
      "Methods in text_collection: ['add', 'count', 'delete', 'get', 'get_model', 'modify', 'peek', 'query', 'update', 'upsert']\n"
     ]
    }
   ],
   "source": [
    "methods_list = [method for method in dir(text_collection) if callable(getattr(text_collection, method)) and not method.startswith('_')]\n",
    "\n",
    "print(\"Methods in text_collection:\", methods_list)"
   ]
  },
  {
   "cell_type": "code",
   "execution_count": 12,
   "metadata": {},
   "outputs": [
    {
     "data": {
      "text/plain": [
       "Collection(id=UUID('11d0a1ad-6e2f-4e09-8a18-eac4b76f6b92'), name='text_collection', configuration_json={'hnsw_configuration': {'space': 'l2', 'ef_construction': 100, 'ef_search': 10, 'num_threads': 24, 'M': 16, 'resize_factor': 1.2, 'batch_size': 100, 'sync_threshold': 1000, '_type': 'HNSWConfigurationInternal'}, '_type': 'CollectionConfigurationInternal'}, metadata={'hnsw:space': 'cosine'}, dimension=None, tenant='default_tenant', database='default_database', version=0)"
      ]
     },
     "execution_count": 12,
     "metadata": {},
     "output_type": "execute_result"
    }
   ],
   "source": [
    "text_collection.get_model()"
   ]
  },
  {
   "cell_type": "markdown",
   "metadata": {},
   "source": [
    "### Add text data to text collection "
   ]
  },
  {
   "cell_type": "code",
   "execution_count": 13,
   "metadata": {},
   "outputs": [
    {
     "name": "stdout",
     "output_type": "stream",
     "text": [
      "['self', 'ids', 'embeddings', 'metadatas', 'documents', 'images', 'uris']\n"
     ]
    }
   ],
   "source": [
    "import inspect\n",
    "\n",
    "args = inspect.getfullargspec(text_collection.add).args\n",
    "print(args)"
   ]
  },
  {
   "cell_type": "code",
   "execution_count": 14,
   "metadata": {},
   "outputs": [],
   "source": [
    "text_collection.add(\n",
    "    ids=ids_data,\n",
    "    documents=documents_data,\n",
    "    metadatas=versions\n",
    ")"
   ]
  },
  {
   "cell_type": "markdown",
   "metadata": {},
   "source": [
    "#### Count in Text Collection"
   ]
  },
  {
   "cell_type": "code",
   "execution_count": 15,
   "metadata": {},
   "outputs": [
    {
     "data": {
      "text/plain": [
       "201"
      ]
     },
     "execution_count": 15,
     "metadata": {},
     "output_type": "execute_result"
    }
   ],
   "source": [
    "text_collection.count()"
   ]
  },
  {
   "cell_type": "markdown",
   "metadata": {},
   "source": [
    "#### Delete in the text collection"
   ]
  },
  {
   "cell_type": "markdown",
   "metadata": {},
   "source": [
    "```python\n",
    "def delete(ids: Optional[IDs] = None,\n",
    "           where: Optional[Where] = None,\n",
    "           where_document: Optional[WhereDocument] = None) -> None\n",
    "\n",
    "```\n",
    "\n",
    "Delete the embeddings based on ids and/or a where filter\n",
    "\n",
    "**Arguments:**\n",
    "\n",
    "`ids` - The ids of the embeddings to delete\n",
    "\n",
    "`where` - A Where type dict used to filter the delection by. E.g. {\"color\" : \"red\", \"price\": 4.20}. Optional.\n",
    "\n",
    "`where_document` - A WhereDocument type dict used to filter the deletion by the document content. E.g. {$contains: {\"text\": \"hello\"}}. Optional.\n",
    "\n",
    "**Returns:**\n",
    "\n",
    "None"
   ]
  },
  {
   "cell_type": "markdown",
   "metadata": {},
   "source": [
    "Delete the embeddings based on ids and/or a where filter\n",
    "\n"
   ]
  },
  {
   "cell_type": "code",
   "execution_count": 18,
   "metadata": {},
   "outputs": [
    {
     "data": {
      "text/plain": [
       "'SP32'"
      ]
     },
     "execution_count": 18,
     "metadata": {},
     "output_type": "execute_result"
    }
   ],
   "source": [
    "ids_data[-1]"
   ]
  },
  {
   "cell_type": "code",
   "execution_count": 19,
   "metadata": {},
   "outputs": [],
   "source": [
    "text_collection.delete(ids=['SP32'])"
   ]
  },
  {
   "cell_type": "code",
   "execution_count": 20,
   "metadata": {},
   "outputs": [
    {
     "data": {
      "text/plain": [
       "200"
      ]
     },
     "execution_count": 20,
     "metadata": {},
     "output_type": "execute_result"
    }
   ],
   "source": [
    "text_collection.count()"
   ]
  },
  {
   "cell_type": "markdown",
   "metadata": {},
   "source": [
    "#### Get in Text Collection"
   ]
  },
  {
   "cell_type": "markdown",
   "metadata": {},
   "source": [
    "```python\n",
    "def get(ids: Optional[OneOrMany[ID]] = None,\n",
    "        where: Optional[Where] = None,\n",
    "        limit: Optional[int] = None,\n",
    "        offset: Optional[int] = None,\n",
    "        where_document: Optional[WhereDocument] = None,\n",
    "        include: Include = [\"metadatas\", \"documents\"]) -> GetResult\n",
    "```\n",
    "\n",
    "**Arguments:**\n",
    "\n",
    "`ids` - The ids of the embeddings to get. Optional.\n",
    "\n",
    "`where` - A Where type dict used to filter results by. E.g. {\"color\" : \"red\", \"price\": 4.20}. Optional.\n",
    "\n",
    "`limit` - The number of documents to return. Optional.\n",
    "\n",
    "`offset` - The offset to start returning results from. Useful for paging results with limit. Optional.\n",
    "\n",
    "`where_document` - A WhereDocument type dict used to filter by the documents. E.g. {$contains: {\"text\": \"hello\"}}. Optional.\n",
    "\n",
    "`include` - A list of what to include in the results. Can contain \"embeddings\", \"metadatas\", \"documents\". Ids are always included. Defaults to [\"metadatas\", \"documents\"]. Optional.\n",
    "\n",
    "**Returns:**\n",
    "\n",
    "`GetResult` - A GetResult object containing the results"
   ]
  },
  {
   "cell_type": "markdown",
   "metadata": {},
   "source": [
    "Get embeddings and their associate data from the data store. If no ids or where filter is provided returns all embeddings up to limit starting at offset.\n",
    "\n"
   ]
  },
  {
   "cell_type": "code",
   "execution_count": 22,
   "metadata": {},
   "outputs": [
    {
     "data": {
      "text/plain": [
       "['A1', 'A2', 'A3', 'A4', 'A5']"
      ]
     },
     "execution_count": 22,
     "metadata": {},
     "output_type": "execute_result"
    }
   ],
   "source": [
    "ids_data[0:5]"
   ]
  },
  {
   "cell_type": "code",
   "execution_count": 23,
   "metadata": {},
   "outputs": [
    {
     "data": {
      "text/plain": [
       "{'ids': ['A1', 'A2', 'A3', 'A4', 'A5'],\n",
       " 'embeddings': None,\n",
       " 'metadatas': [{'ver': 0}, {'ver': 1}, {'ver': 2}, {'ver': 3}, {'ver': 0}],\n",
       " 'documents': ['Vegan Chicken Salad',\n",
       "  'Spring Rolls (4 pieces)',\n",
       "  'Pot Stickers (6 pieces)',\n",
       "  'Fried Wonton (10 pieces)',\n",
       "  'Fried Tofu with Soy Sauce'],\n",
       " 'uris': None,\n",
       " 'data': None,\n",
       " 'included': ['metadatas', 'documents']}"
      ]
     },
     "execution_count": 23,
     "metadata": {},
     "output_type": "execute_result"
    }
   ],
   "source": [
    "text_collection.get(ids=['A1', 'A2', 'A3', 'A4', 'A5'])"
   ]
  },
  {
   "cell_type": "code",
   "execution_count": 24,
   "metadata": {},
   "outputs": [
    {
     "data": {
      "text/plain": [
       "{'ids': ['A1', 'A5'],\n",
       " 'embeddings': None,\n",
       " 'metadatas': [{'ver': 0}, {'ver': 0}],\n",
       " 'documents': ['Vegan Chicken Salad', 'Fried Tofu with Soy Sauce'],\n",
       " 'uris': None,\n",
       " 'data': None,\n",
       " 'included': ['metadatas', 'documents']}"
      ]
     },
     "execution_count": 24,
     "metadata": {},
     "output_type": "execute_result"
    }
   ],
   "source": [
    "text_collection.get(ids=['A1', 'A2', 'A3', 'A4', 'A5'], \n",
    "                    where={\"ver\": 0})"
   ]
  },
  {
   "cell_type": "code",
   "execution_count": 30,
   "metadata": {},
   "outputs": [
    {
     "data": {
      "text/plain": [
       "{'ids': [],\n",
       " 'embeddings': None,\n",
       " 'metadatas': [],\n",
       " 'documents': [],\n",
       " 'uris': None,\n",
       " 'data': None,\n",
       " 'included': ['metadatas', 'documents']}"
      ]
     },
     "execution_count": 30,
     "metadata": {},
     "output_type": "execute_result"
    }
   ],
   "source": [
    "text_collection.get(ids=['A1', 'A2', 'A3', 'A4', 'A5'], \n",
    "                    where_document={\"$contains\":\"search_string\"})"
   ]
  },
  {
   "cell_type": "code",
   "execution_count": 32,
   "metadata": {},
   "outputs": [
    {
     "data": {
      "text/plain": [
       "['Vegan Chicken Salad',\n",
       " 'Spring Rolls (4 pieces)',\n",
       " 'Pot Stickers (6 pieces)',\n",
       " 'Fried Wonton (10 pieces)',\n",
       " 'Fried Tofu with Soy Sauce']"
      ]
     },
     "execution_count": 32,
     "metadata": {},
     "output_type": "execute_result"
    }
   ],
   "source": [
    "documents_data[0:5]"
   ]
  },
  {
   "cell_type": "code",
   "execution_count": 35,
   "metadata": {},
   "outputs": [
    {
     "data": {
      "text/plain": [
       "{'ids': ['A1'],\n",
       " 'embeddings': None,\n",
       " 'metadatas': [{'ver': 0}],\n",
       " 'documents': ['Vegan Chicken Salad'],\n",
       " 'uris': None,\n",
       " 'data': None,\n",
       " 'included': ['metadatas', 'documents']}"
      ]
     },
     "execution_count": 35,
     "metadata": {},
     "output_type": "execute_result"
    }
   ],
   "source": [
    "text_collection.get(ids=['A1', 'A2', 'A3', 'A4', 'A5'], \n",
    "                    where_document={\"$contains\":\"Chicken\"})"
   ]
  },
  {
   "cell_type": "code",
   "execution_count": 36,
   "metadata": {},
   "outputs": [
    {
     "data": {
      "text/plain": [
       "{'ids': [],\n",
       " 'embeddings': None,\n",
       " 'metadatas': [],\n",
       " 'documents': [],\n",
       " 'uris': None,\n",
       " 'data': None,\n",
       " 'included': ['metadatas', 'documents']}"
      ]
     },
     "execution_count": 36,
     "metadata": {},
     "output_type": "execute_result"
    }
   ],
   "source": [
    "text_collection.get(ids=['A1', 'A2', 'A3', 'A4', 'A5'], \n",
    "                    where_document={\"$contains\":\"chicken\"})"
   ]
  },
  {
   "cell_type": "markdown",
   "metadata": {},
   "source": [
    "#### get_model in Text Collection"
   ]
  },
  {
   "cell_type": "code",
   "execution_count": 41,
   "metadata": {},
   "outputs": [
    {
     "name": "stdout",
     "output_type": "stream",
     "text": [
      "['self']\n"
     ]
    }
   ],
   "source": [
    "import inspect\n",
    "\n",
    "args = inspect.getfullargspec(text_collection.get_model).args\n",
    "print(args)"
   ]
  },
  {
   "cell_type": "code",
   "execution_count": 40,
   "metadata": {},
   "outputs": [
    {
     "data": {
      "text/plain": [
       "Collection(id=UUID('11d0a1ad-6e2f-4e09-8a18-eac4b76f6b92'), name='text_collection', configuration_json={'hnsw_configuration': {'space': 'l2', 'ef_construction': 100, 'ef_search': 10, 'num_threads': 24, 'M': 16, 'resize_factor': 1.2, 'batch_size': 100, 'sync_threshold': 1000, '_type': 'HNSWConfigurationInternal'}, '_type': 'CollectionConfigurationInternal'}, metadata={'hnsw:space': 'cosine'}, dimension=None, tenant='default_tenant', database='default_database', version=0)"
      ]
     },
     "execution_count": 40,
     "metadata": {},
     "output_type": "execute_result"
    }
   ],
   "source": [
    "text_collection.get_model()"
   ]
  },
  {
   "cell_type": "markdown",
   "metadata": {},
   "source": [
    "#### Modify in Text Collection"
   ]
  },
  {
   "cell_type": "markdown",
   "metadata": {},
   "source": [
    "```python\n",
    "def modify(name: Optional[str] = None,\n",
    "           metadata: Optional[CollectionMetadata] = None) -> None\n",
    "```\n",
    "\n",
    "**Arguments:**\n",
    "\n",
    "`name` - The updated name for the collection. Optional.\n",
    "\n",
    "`metadata` - The updated metadata for the collection. Optional.\n",
    "\n",
    "**Returns:**\n",
    "\n",
    "None"
   ]
  },
  {
   "cell_type": "markdown",
   "metadata": {},
   "source": [
    "Modify the collection name or metadata\n",
    "\n"
   ]
  },
  {
   "cell_type": "code",
   "execution_count": 42,
   "metadata": {},
   "outputs": [
    {
     "data": {
      "text/plain": [
       "{'ids': ['A1', 'A2', 'A3', 'A4', 'A5'],\n",
       " 'embeddings': None,\n",
       " 'metadatas': [{'ver': 0}, {'ver': 1}, {'ver': 2}, {'ver': 3}, {'ver': 0}],\n",
       " 'documents': ['Vegan Chicken Salad',\n",
       "  'Spring Rolls (4 pieces)',\n",
       "  'Pot Stickers (6 pieces)',\n",
       "  'Fried Wonton (10 pieces)',\n",
       "  'Fried Tofu with Soy Sauce'],\n",
       " 'uris': None,\n",
       " 'data': None,\n",
       " 'included': ['metadatas', 'documents']}"
      ]
     },
     "execution_count": 42,
     "metadata": {},
     "output_type": "execute_result"
    }
   ],
   "source": [
    "text_collection.get(ids=['A1', 'A2', 'A3', 'A4', 'A5'])"
   ]
  },
  {
   "cell_type": "markdown",
   "metadata": {},
   "source": [
    "#### Peek in Text Collection"
   ]
  },
  {
   "cell_type": "markdown",
   "metadata": {},
   "source": [
    "```python\n",
    "def peek(limit: int = 10) -> GetResult\n",
    "```\n",
    "\n",
    "\n",
    "**Arguments:**\n",
    "\n",
    "`limit`` - The number of results to return.\n",
    "\n",
    "**Returns:**\n",
    "\n",
    "`GetResult` - A GetResult object containing the results.\n"
   ]
  },
  {
   "cell_type": "markdown",
   "metadata": {},
   "source": [
    "Get the first few results in the database up to limit\n"
   ]
  },
  {
   "cell_type": "code",
   "execution_count": null,
   "metadata": {},
   "outputs": [],
   "source": [
    "text_collection.peek(limit=5) # include embedding"
   ]
  },
  {
   "cell_type": "markdown",
   "metadata": {},
   "source": [
    "#### Update in Text Collection"
   ]
  },
  {
   "cell_type": "markdown",
   "metadata": {},
   "source": [
    "```python\n",
    "def update(ids: OneOrMany[ID],\n",
    "           embeddings: Optional[OneOrMany[Embedding]] = None,\n",
    "           metadatas: Optional[OneOrMany[Metadata]] = None,\n",
    "           documents: Optional[OneOrMany[Document]] = None) -> None\n",
    "\n",
    "```\n",
    "\n",
    "\n",
    "**Arguments:**\n",
    "\n",
    "`ids` - The ids of the embeddings to update\n",
    "\n",
    "`embeddings` - The embeddings to add. If None, embeddings will be computed based on the documents using the embedding_function set for \n",
    "the Collection. Optional.\n",
    "\n",
    "`metadatas` - The metadata to associate with the embeddings. When querying, you can filter on this metadata. Optional.\n",
    "\n",
    "`documents` - The documents to associate with the embeddings. Optional.\n",
    "\n",
    "**Returns:**\n",
    "\n",
    "None"
   ]
  },
  {
   "cell_type": "markdown",
   "metadata": {},
   "source": [
    "Update the embeddings, metadatas or documents for provided ids.\n"
   ]
  },
  {
   "cell_type": "code",
   "execution_count": 45,
   "metadata": {},
   "outputs": [
    {
     "data": {
      "text/plain": [
       "{'ids': ['A1', 'A2', 'A3', 'A4', 'A5'],\n",
       " 'embeddings': None,\n",
       " 'metadatas': [{'ver': 0}, {'ver': 1}, {'ver': 2}, {'ver': 3}, {'ver': 0}],\n",
       " 'documents': ['Vegan Chicken Salad',\n",
       "  'Spring Rolls (4 pieces)',\n",
       "  'Pot Stickers (6 pieces)',\n",
       "  'Fried Wonton (10 pieces)',\n",
       "  'Fried Tofu with Soy Sauce'],\n",
       " 'uris': None,\n",
       " 'data': None,\n",
       " 'included': ['metadatas', 'documents']}"
      ]
     },
     "execution_count": 45,
     "metadata": {},
     "output_type": "execute_result"
    }
   ],
   "source": [
    "text_collection.get(ids=['A1', 'A2', 'A3', 'A4', 'A5'])"
   ]
  },
  {
   "cell_type": "code",
   "execution_count": 46,
   "metadata": {},
   "outputs": [],
   "source": [
    "text_collection.update(ids=['A1'], \n",
    "                       documents=['Chicken Burger'], \n",
    "                       metadatas=[{'ver': -1}])"
   ]
  },
  {
   "cell_type": "code",
   "execution_count": 47,
   "metadata": {},
   "outputs": [
    {
     "data": {
      "text/plain": [
       "{'ids': ['A1', 'A2', 'A3', 'A4', 'A5'],\n",
       " 'embeddings': None,\n",
       " 'metadatas': [{'ver': -1}, {'ver': 1}, {'ver': 2}, {'ver': 3}, {'ver': 0}],\n",
       " 'documents': ['Chicken Burger',\n",
       "  'Spring Rolls (4 pieces)',\n",
       "  'Pot Stickers (6 pieces)',\n",
       "  'Fried Wonton (10 pieces)',\n",
       "  'Fried Tofu with Soy Sauce'],\n",
       " 'uris': None,\n",
       " 'data': None,\n",
       " 'included': ['metadatas', 'documents']}"
      ]
     },
     "execution_count": 47,
     "metadata": {},
     "output_type": "execute_result"
    }
   ],
   "source": [
    "text_collection.get(ids=['A1', 'A2', 'A3', 'A4', 'A5'])"
   ]
  },
  {
   "cell_type": "code",
   "execution_count": 48,
   "metadata": {},
   "outputs": [
    {
     "name": "stderr",
     "output_type": "stream",
     "text": [
      "Update of nonexisting embedding ID: A1BLABLA\n",
      "Update of nonexisting embedding ID: A1BLABLA\n"
     ]
    }
   ],
   "source": [
    "text_collection.update(ids=['A1BLABLA'], \n",
    "                       documents=['Fish Burger'], \n",
    "                       metadatas=[{'ver': -1}])"
   ]
  },
  {
   "cell_type": "code",
   "execution_count": 49,
   "metadata": {},
   "outputs": [
    {
     "data": {
      "text/plain": [
       "{'ids': [],\n",
       " 'embeddings': None,\n",
       " 'metadatas': [],\n",
       " 'documents': [],\n",
       " 'uris': None,\n",
       " 'data': None,\n",
       " 'included': ['metadatas', 'documents']}"
      ]
     },
     "execution_count": 49,
     "metadata": {},
     "output_type": "execute_result"
    }
   ],
   "source": [
    "text_collection.get(ids=['A1BLABLA'])"
   ]
  },
  {
   "cell_type": "markdown",
   "metadata": {},
   "source": [
    "#### Upsert in Text Collection"
   ]
  },
  {
   "cell_type": "markdown",
   "metadata": {},
   "source": [
    "```python\n",
    "def upsert(ids: OneOrMany[ID],\n",
    "           embeddings: Optional[OneOrMany[Embedding]] = None,\n",
    "           metadatas: Optional[OneOrMany[Metadata]] = None,\n",
    "           documents: Optional[OneOrMany[Document]] = None) -> None\n",
    "\n",
    "```\n",
    "\n",
    "\n",
    "**Arguments:**\n",
    "\n",
    "`ids` - The ids of the embeddings to update\n",
    "\n",
    "`embeddings` - The embeddings to add. If None, embeddings will be computed based on the documents using the embedding_function set for the Collection. Optional.\n",
    "\n",
    "`metadatas` - The metadata to associate with the embeddings. When querying, you can filter on this metadata. Optional.\n",
    "\n",
    "`documents` - The documents to associate with the embeddings. Optional.\n",
    "\n",
    "**Returns:**\n",
    "\n",
    "None"
   ]
  },
  {
   "cell_type": "markdown",
   "metadata": {},
   "source": [
    "Update the embeddings, metadatas or documents for provided ids, or create them if they don't exist.\n",
    "\n"
   ]
  },
  {
   "cell_type": "markdown",
   "metadata": {},
   "source": [
    "Methods in text_collection: ['add', 'count', 'delete', 'get', 'get_model', 'modify', 'peek', 'query', 'update', 'upsert']\n"
   ]
  },
  {
   "cell_type": "code",
   "execution_count": 57,
   "metadata": {},
   "outputs": [],
   "source": [
    "text_collection.upsert(ids=['A1BLABLA'], \n",
    "                       documents=['Fish Burger'], \n",
    "                       metadatas=[{'ver': -1}])"
   ]
  },
  {
   "cell_type": "code",
   "execution_count": 58,
   "metadata": {},
   "outputs": [
    {
     "data": {
      "text/plain": [
       "{'ids': ['A1BLABLA'],\n",
       " 'embeddings': None,\n",
       " 'metadatas': [{'ver': -1}],\n",
       " 'documents': ['Fish Burger'],\n",
       " 'uris': None,\n",
       " 'data': None,\n",
       " 'included': ['metadatas', 'documents']}"
      ]
     },
     "execution_count": 58,
     "metadata": {},
     "output_type": "execute_result"
    }
   ],
   "source": [
    "text_collection.get(ids=['A1BLABLA'])"
   ]
  },
  {
   "cell_type": "markdown",
   "metadata": {},
   "source": [
    "### Query Text"
   ]
  },
  {
   "cell_type": "markdown",
   "metadata": {},
   "source": [
    "https://github.com/chroma-core/chroma/blob/main/chromadb/api/models/Collection.py#L141\n",
    "```python\n",
    "    def query(\n",
    "        self,\n",
    "        query_embeddings: Optional[  # type: ignore[type-arg]\n",
    "            Union[\n",
    "                OneOrMany[Embedding],\n",
    "                OneOrMany[np.ndarray],\n",
    "            ]\n",
    "        ] = None,\n",
    "        query_texts: Optional[OneOrMany[Document]] = None,\n",
    "        query_images: Optional[OneOrMany[Image]] = None,\n",
    "        query_uris: Optional[OneOrMany[URI]] = None,\n",
    "        n_results: int = 10,\n",
    "        where: Optional[Where] = None,\n",
    "        where_document: Optional[WhereDocument] = None,\n",
    "        include: Include = [\"metadatas\", \"documents\", \"distances\"],\n",
    "    ) -> QueryResult:\n",
    "        \"\"\"Get the n_results nearest neighbor embeddings for provided query_embeddings or query_texts.\n",
    "\n",
    "        Args:\n",
    "            query_embeddings: The embeddings to get the closes neighbors of. Optional.\n",
    "            query_texts: The document texts to get the closes neighbors of. Optional.\n",
    "            query_images: The images to get the closes neighbors of. Optional.\n",
    "            n_results: The number of neighbors to return for each query_embedding or query_texts. Optional.\n",
    "            where: A Where type dict used to filter results by. E.g. `{\"$and\": [{\"color\" : \"red\"}, {\"price\": {\"$gte\": 4.20}}]}`. Optional.\n",
    "            where_document: A WhereDocument type dict used to filter by the documents. E.g. `{$contains: {\"text\": \"hello\"}}`. Optional.\n",
    "            include: A list of what to include in the results. Can contain `\"embeddings\"`, `\"metadatas\"`, `\"documents\"`, `\"distances\"`. Ids are always included. Defaults to `[\"metadatas\", \"documents\", \"distances\"]`. Optional.\n",
    "\n",
    "        Returns:\n",
    "            QueryResult: A QueryResult object containing the results.\n",
    "\n",
    "        Raises:\n",
    "            ValueError: If you don't provide either query_embeddings, query_texts, or query_images\n",
    "            ValueError: If you provide both query_embeddings and query_texts\n",
    "            ValueError: If you provide both query_embeddings and query_images\n",
    "            ValueError: If you provide both query_texts and query_images\n",
    "\n",
    "        \"\"\"\n",
    "```"
   ]
  },
  {
   "cell_type": "code",
   "execution_count": 59,
   "metadata": {},
   "outputs": [
    {
     "data": {
      "text/plain": [
       "{'ids': ['A1', 'A2', 'A3', 'A4', 'A5'],\n",
       " 'embeddings': None,\n",
       " 'metadatas': [{'ver': -1}, {'ver': 1}, {'ver': 2}, {'ver': 3}, {'ver': 0}],\n",
       " 'documents': ['Chicken Burger',\n",
       "  'Spring Rolls (4 pieces)',\n",
       "  'Pot Stickers (6 pieces)',\n",
       "  'Fried Wonton (10 pieces)',\n",
       "  'Fried Tofu with Soy Sauce'],\n",
       " 'uris': None,\n",
       " 'data': None,\n",
       " 'included': ['metadatas', 'documents']}"
      ]
     },
     "execution_count": 59,
     "metadata": {},
     "output_type": "execute_result"
    }
   ],
   "source": [
    "text_collection.get(ids=['A1', 'A2', 'A3', 'A4', 'A5'])"
   ]
  },
  {
   "cell_type": "code",
   "execution_count": 60,
   "metadata": {},
   "outputs": [
    {
     "data": {
      "text/plain": [
       "{'ids': [['A1', 'A1BLABLA', 'A18', 'E37', 'E81']],\n",
       " 'distances': [[0.34587299823760986,\n",
       "   0.3687518835067749,\n",
       "   0.6099321842193604,\n",
       "   0.6772676706314087,\n",
       "   0.685279369354248]],\n",
       " 'metadatas': [[{'ver': -1}, {'ver': -1}, {'ver': 1}, {'ver': 3}, {'ver': 2}]],\n",
       " 'embeddings': None,\n",
       " 'documents': [['Chicken Burger',\n",
       "   'Fish Burger',\n",
       "   'French Fries',\n",
       "   'Sizzling Vegan Beef and Mushroom',\n",
       "   'Vegan Beef with Broccoli']],\n",
       " 'uris': None,\n",
       " 'data': None,\n",
       " 'included': ['metadatas', 'documents', 'distances']}"
      ]
     },
     "execution_count": 60,
     "metadata": {},
     "output_type": "execute_result"
    }
   ],
   "source": [
    "text_query = \"Meet Burger\"\n",
    "text_collection.query(\n",
    "    query_texts=text_query,\n",
    "    n_results=5\n",
    ")"
   ]
  },
  {
   "cell_type": "code",
   "execution_count": null,
   "metadata": {},
   "outputs": [],
   "source": []
  }
 ],
 "metadata": {
  "kernelspec": {
   "display_name": "chromadb",
   "language": "python",
   "name": "python3"
  },
  "language_info": {
   "codemirror_mode": {
    "name": "ipython",
    "version": 3
   },
   "file_extension": ".py",
   "mimetype": "text/x-python",
   "name": "python",
   "nbconvert_exporter": "python",
   "pygments_lexer": "ipython3",
   "version": "3.11.9"
  }
 },
 "nbformat": 4,
 "nbformat_minor": 2
}
